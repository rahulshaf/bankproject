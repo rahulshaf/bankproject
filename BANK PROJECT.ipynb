{
 "cells": [
  {
   "cell_type": "code",
   "execution_count": 1,
   "metadata": {},
   "outputs": [],
   "source": [
    "import json"
   ]
  },
  {
   "cell_type": "code",
   "execution_count": 2,
   "metadata": {},
   "outputs": [],
   "source": [
    "def front():\n",
    "    print(\"*\"*20)\n",
    "    print(\"WELCOME TO SBI BANK\")\n",
    "    print(\"*\"*20)\n",
    "    while(1):\n",
    "        print(\"PRESS 1  FOR VIEW ALL ACCOUNT\")\n",
    "        print(\"PRESS 2  OPEN AND UPDATE ACCOUNT\")\n",
    "        print(\"PRESS 3  FOR OPEN NEW ACCOUNT\")\n",
    "        print(\"PRESS 4  FOR EXIT\")\n",
    "        print(\"*\"*20)\n",
    "        x=int(input(\"ENTER YOUR CHOICE\"))\n",
    "        if x==1:\n",
    "            view()\n",
    "        elif x==2:\n",
    "            opend()\n",
    "        elif x==3:\n",
    "            signup();\n",
    "        else:\n",
    "            print(\"*\"*20)\n",
    "            print(\"THANK YOU\")\n",
    "            print(\"*\"*20)\n",
    "            break"
   ]
  },
  {
   "cell_type": "code",
   "execution_count": 3,
   "metadata": {},
   "outputs": [],
   "source": [
    "def view():\n",
    "    x=open(\"account.txt\")\n",
    "    dic=json.load(x)\n",
    "    x.close()\n",
    "    for i in dic:\n",
    "        print(\"#\"*20)\n",
    "        print(f\"ACCOUNT NO IS {i}\")\n",
    "        for j in dic[i]:\n",
    "            print(j,dic[i][j])\n",
    "        print(\"#\"*20)    "
   ]
  },
  {
   "cell_type": "code",
   "execution_count": 4,
   "metadata": {},
   "outputs": [],
   "source": [
    "def opend():\n",
    "    print(\"$\"*20)\n",
    "    while(1):\n",
    "        acc=input(\"enter account no\")\n",
    "        x=open(\"account.txt\")\n",
    "        dic=json.load(x)\n",
    "        x.close()\n",
    "        if acc in dic:\n",
    "            for i in dic[acc]:\n",
    "                print(i,dic[acc][i])\n",
    "            print(\"#\"*20)\n",
    "            print(\"PRESS 1 FOR EDIT BALANCE\")\n",
    "            c=int(input())\n",
    "            if c ==1:\n",
    "                print(\"#\"*20)\n",
    "                print(\"PRESS 1 FOR DEBIT\")\n",
    "                print(\"PRESS 2 FOR CREDIT \")\n",
    "                print(\"PRESS 3 FOR  EXIT \")\n",
    "                \n",
    "                print(\"#\"*20)\n",
    "                s=int(input())\n",
    "                if s==1:\n",
    "                    d=int(input(\"enter amount to be debited\"))\n",
    "                    if dic[acc][\"Account Balance\"]>=d:\n",
    "                        dic[acc][\"Account Balance\"]-=d\n",
    "                        print(\"YOUR TRANSACTION IS SUCCESSFULLY COMPLETED\")\n",
    "                    else:\n",
    "                        print(\"not enough balance in your account to debit ammount\")\n",
    "                        print(\"#\"*20)\n",
    "                elif s==2:\n",
    "                    cr=int(input(\"ENTER THE AMMOUNT TO BE CREDITED\"))\n",
    "                    dic[acc][\"Account Balance\"]+=cr\n",
    "                    print(\"YOUR TRANSACTION IS SUCCESSFULLY COMPLETED\")\n",
    "                else:\n",
    "                    print(\"$\"*20)\n",
    "                    print(\"THANK YOU FOR TRANSACTION\")\n",
    "                    \n",
    "                a=open(\"account.txt\",\"w\")\n",
    "                json.dump(dic,a)\n",
    "                a.close()\n",
    "                \n",
    "            break\n",
    "        else:\n",
    "            print(\"enter valid acc no\")\n",
    "       \n",
    "    "
   ]
  },
  {
   "cell_type": "code",
   "execution_count": null,
   "metadata": {},
   "outputs": [],
   "source": []
  },
  {
   "cell_type": "code",
   "execution_count": null,
   "metadata": {},
   "outputs": [],
   "source": []
  },
  {
   "cell_type": "code",
   "execution_count": 5,
   "metadata": {},
   "outputs": [],
   "source": [
    "def createacoountant():\n",
    "    name=input(\"enter your accountant name\")\n",
    "    password=input(\"enter the password\")\n",
    "    email=input(\"enter your email\")\n",
    "    fp=open(\"acc.txt\")\n",
    "    dic=json.load(fp)\n",
    "    fp.close()\n",
    "    accountno=len(dic)+1\n",
    "    data={\"name\":name,\"password\":password,\"email\":email,\"post\":\"accountant\"}\n",
    "    dic[accountno]=data\n",
    "    fp=open(\"acc.txt\",\"w\")\n",
    "    json.dump(dic,fp)\n",
    "    print(\"your accountant is successfully created\")\n",
    "    print(f\"your emp id is {accountno}\")\n",
    "    \n",
    "    "
   ]
  },
  {
   "cell_type": "code",
   "execution_count": 6,
   "metadata": {},
   "outputs": [],
   "source": [
    "def accountant():\n",
    "    acc=input(\"enter your id\")\n",
    "    password=input(\"enter your password\")\n",
    "    f=open(\"acc.txt\")\n",
    "    dic=json.load(f)\n",
    "    f.close()\n",
    "    if acc in dic:\n",
    "        if dic[acc][\"password\"] == password:\n",
    "            print(\"you successfully login\")\n",
    "            front()\n",
    "        else:\n",
    "            print(\"please enter the valid password\")\n",
    "    else:\n",
    "        print(\"please enter the valid account no\")"
   ]
  },
  {
   "cell_type": "code",
   "execution_count": null,
   "metadata": {},
   "outputs": [],
   "source": []
  },
  {
   "cell_type": "code",
   "execution_count": null,
   "metadata": {},
   "outputs": [],
   "source": []
  },
  {
   "cell_type": "code",
   "execution_count": 7,
   "metadata": {},
   "outputs": [],
   "source": [
    "def signup():\n",
    "    name=input(\"enter your name\")\n",
    "    password=input(\"enter the password\")\n",
    "    email=input(\"enter your email\")\n",
    "    fp=open(\"account.txt\")\n",
    "    dic=json.load(fp)\n",
    "    fp.close()\n",
    "    accountno=len(dic)+1\n",
    "    data={\"name\":name,\"password\":password,\"email\":email,\"Account Balance\":0}\n",
    "    dic[accountno]=data\n",
    "    fp=open(\"account.txt\",\"w\")\n",
    "    json.dump(dic,fp)\n",
    "    print(\"your account is successfully created\")\n",
    "    print(f\"your account no is {accountno}\")"
   ]
  },
  {
   "cell_type": "code",
   "execution_count": 8,
   "metadata": {},
   "outputs": [],
   "source": [
    "def login():\n",
    "    acc=input(\"enter your account no\")\n",
    "    password=input(\"enter your pasword\")\n",
    "    f=open(\"account.txt\")\n",
    "    dic=json.load(f)\n",
    "    f.close()\n",
    "    if acc in dic:\n",
    "        if dic[acc][\"password\"] == password:\n",
    "            print(\"you successfully login\")\n",
    "            for i in dic[acc]:\n",
    "                print(i,dic[acc][i])\n",
    "            while(1):   #starrt\n",
    "                print(\"#\"*20)\n",
    "                print(\"PRESS 1 FOR ONLONE PAYMENT\")\n",
    "                print(\"PRESS 2 EXIT\")\n",
    "                s=int(input())\n",
    "                if s==1:\n",
    "                    while(1):\n",
    "                        aco=input(\"ENTER THE ACCOUNT NO DO YOU WANT TO TRANSFER THE MONEY\")\n",
    "                        if aco in dic:\n",
    "                            d=int(input(\"enter the amount do you want to transfer\"))\n",
    "                            if dic[acc][\"Account Balance\"]>=d:\n",
    "                                dic[acc][\"Account Balance\"]-=d\n",
    "                                dic[aco][\"Account Balance\"]+=d\n",
    "                                print(\"TRANSACTION SUCEESSFULL\")\n",
    "                                x=open(\"account.txt\",\"w\")\n",
    "                                json.dump(dic,x)\n",
    "                                x.close()\n",
    "                            else:\n",
    "                                print(\"YOU DONT HAVE ENOUGH BALANCE TO COMPLETE THIS TRANSACTION\")\n",
    "                            break;    \n",
    "                            \n",
    "                        else:#seperate\n",
    "                            print(\"please enter valid account no\")\n",
    "                else:\n",
    "                    print(\"THANK YOU FOR BANKING\")\n",
    "                    break\n",
    "                \n",
    "        else:\n",
    "            print(\"please enter the valid password\")\n",
    "    else:\n",
    "        print(\"please enter the valid account no\")"
   ]
  },
  {
   "cell_type": "code",
   "execution_count": null,
   "metadata": {},
   "outputs": [],
   "source": [
    "def home():\n",
    "    print(\"*\"*20)\n",
    "    print(\"WELCOME TO SBI BANK\")\n",
    "    print(\"*\"*20)\n",
    "    while(True):\n",
    "        print(\"*\"*20)\n",
    "        print(\"what you want to do\")\n",
    "        print(\"1 FOR USER LOGIN \")\n",
    "        print(\"2 FOR ACCOUNTANT LOGIN\")\n",
    "        print(\"3 FOR EXIT\")\n",
    "        print(\"*\"*20)\n",
    "        c=(input(\"ENTER YOUR CHOICE\"))\n",
    "        c=int(c)\n",
    "        if c == 1:\n",
    "             login()\n",
    "        elif c==2:\n",
    "             accountant()\n",
    "        elif c==3:\n",
    "            print(\"THANK YOU FOR BANKING\")\n",
    "            break\n",
    "        else:\n",
    "            print(\"please enter the valid choice\")\n",
    "            \n",
    "    "
   ]
  },
  {
   "cell_type": "markdown",
   "metadata": {},
   "source": [
    "home()\n",
    "\n",
    "\n"
   ]
  },
  {
   "cell_type": "markdown",
   "metadata": {},
   "source": [
    "### home()"
   ]
  },
  {
   "cell_type": "code",
   "execution_count": 1,
   "metadata": {},
   "outputs": [
    {
     "name": "stdout",
     "output_type": "stream",
     "text": [
      "hello world\n"
     ]
    }
   ],
   "source": [
    "print(\"hello world\")"
   ]
  },
  {
   "cell_type": "code",
   "execution_count": null,
   "metadata": {},
   "outputs": [],
   "source": []
  }
 ],
 "metadata": {
  "kernelspec": {
   "display_name": "Python 3",
   "language": "python",
   "name": "python3"
  },
  "language_info": {
   "codemirror_mode": {
    "name": "ipython",
    "version": 3
   },
   "file_extension": ".py",
   "mimetype": "text/x-python",
   "name": "python",
   "nbconvert_exporter": "python",
   "pygments_lexer": "ipython3",
   "version": "3.6.4"
  }
 },
 "nbformat": 4,
 "nbformat_minor": 2
}
